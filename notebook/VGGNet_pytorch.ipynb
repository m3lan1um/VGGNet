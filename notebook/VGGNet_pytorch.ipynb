{
  "cells": [
    {
      "cell_type": "markdown",
      "metadata": {
        "id": "1DT5DAY437G7"
      },
      "source": [
        "# 라이브러리"
      ]
    },
    {
      "cell_type": "code",
      "execution_count": 1,
      "metadata": {
        "id": "IMqlqi56JZd6"
      },
      "outputs": [],
      "source": [
        "import torch\n",
        "\n",
        "# data loading & dataloader\n",
        "import torchvision\n",
        "from torchvision import datasets\n",
        "from torchvision.transforms import ToTensor\n",
        "from torchvision.transforms import v2\n",
        "from torch.utils.data import DataLoader\n",
        "\n",
        "# image visualization\n",
        "import matplotlib.pyplot as plt\n",
        "\n",
        "# model\n",
        "from torch import nn, optim\n"
      ]
    },
    {
      "cell_type": "code",
      "execution_count": 2,
      "metadata": {
        "colab": {
          "base_uri": "https://localhost:8080/"
        },
        "id": "6ae4HLkAJ_HX",
        "outputId": "b378afa9-9e27-43ef-8233-b6a69b1a5364"
      },
      "outputs": [
        {
          "name": "stdout",
          "output_type": "stream",
          "text": [
            "cuda is available\n"
          ]
        }
      ],
      "source": [
        "device = (\n",
        "    'cuda' if torch.cuda.is_available()\n",
        "    else 'mps' if torch.backends.mps.is_available()\n",
        "    else 'cpu'\n",
        ")\n",
        "\n",
        "print(f'{device} is available')"
      ]
    },
    {
      "cell_type": "markdown",
      "metadata": {
        "id": "oqEm7EV--WmN"
      },
      "source": [
        "# 데이터셋 불러오기\n",
        "- Dataset: STL10\n",
        "- 이미지 규격: 96x96\n"
      ]
    },
    {
      "cell_type": "code",
      "execution_count": 3,
      "metadata": {
        "colab": {
          "base_uri": "https://localhost:8080/"
        },
        "id": "hHnvdh2MgRTN",
        "outputId": "67dc4eed-30a1-4a17-e846-f2c969f9ac30"
      },
      "outputs": [],
      "source": [
        "# # 구글 드라이브 연동하기\n",
        "# from google.colab import drive\n",
        "# drive.mount('/content/drive')"
      ]
    },
    {
      "cell_type": "code",
      "execution_count": 4,
      "metadata": {
        "colab": {
          "base_uri": "https://localhost:8080/"
        },
        "id": "vswyd2jse9ui",
        "outputId": "f8652ea0-09e1-401c-9454-ddb96762362b"
      },
      "outputs": [
        {
          "name": "stdout",
          "output_type": "stream",
          "text": [
            "Files already downloaded and verified\n",
            "Files already downloaded and verified\n"
          ]
        }
      ],
      "source": [
        "# # 데이터셋을 다운로드 받을 구글 드라이브 경로 지정하고 다운받기\n",
        "# dir_path = '/content/drive/MyDrive/Colab Notebooks/'\n",
        "\n",
        "dir_path = '../datasets/'\n",
        "\n",
        "# 데이터셋을 받는 시점에서 일단 transform을 torch.transforms.ToTensro()만 적용하고\n",
        "# 이후에 augmentation을 할 때 바꿔서 진행한다.\n",
        "train_dataset = datasets.STL10(root=dir_path, split='train', download=True, transform=ToTensor())\n",
        "test_dataset = datasets.STL10(root=dir_path, split='test', download=True, transform=ToTensor())"
      ]
    },
    {
      "cell_type": "code",
      "execution_count": 5,
      "metadata": {
        "colab": {
          "base_uri": "https://localhost:8080/"
        },
        "id": "EvK7KmR5c48K",
        "outputId": "06c9dfac-e342-49d2-c09b-df4b5df1762f"
      },
      "outputs": [
        {
          "name": "stdout",
          "output_type": "stream",
          "text": [
            "Train dataset size: 5000\n",
            "Test dataset size: 8000\n"
          ]
        }
      ],
      "source": [
        "# 다운 받은 데이터셋 크기 확인\n",
        "print(f'Train dataset size: {len(train_dataset)}')\n",
        "print(f'Test dataset size: {len(test_dataset)}')"
      ]
    },
    {
      "cell_type": "markdown",
      "metadata": {
        "id": "OhIhw17354u-"
      },
      "source": [
        "# 데이터셋 분리: validation set 만들기\n",
        "- STL10은 train 5000개, test 8000개로 구성되어 있고, validation을 따로 분할해서 사용해야 한다.\n",
        "- VGGNet 논문에서는 다음과 같이 데이터셋을 이용했다.  \n",
        "  - Train: 1.3M\n",
        "  - Validation: 50K\n",
        "  - Test: 100K\n",
        "  - Train : Validation : Test = 2.6 : 1 : 2\n",
        "- 정확하게 같은 비율로 하려면 코드 수정 소요가 많아지니까 test에서 4000개를 분할해서 validation을 할 때 사용하겠다.\n",
        "- 데이터의 차원 구조가 [C, H, W]로 되어 있는데 type이 np.array여서 tensor로 변경하면 차원 구조가 변경된다. 그래서 `torchvision.tv_tensors.Image`을 이용해서 차원 구조는 유지하되 type만 변경했다."
      ]
    },
    {
      "cell_type": "code",
      "execution_count": 6,
      "metadata": {
        "colab": {
          "base_uri": "https://localhost:8080/"
        },
        "id": "KfGuIAlu6mSN",
        "outputId": "b11e34bf-3b30-482e-d176-cc003c6d394e"
      },
      "outputs": [
        {
          "name": "stdout",
          "output_type": "stream",
          "text": [
            "Validation dataset\n",
            "Size: 4000\n",
            "Type: <class 'torchvision.tv_tensors._image.Image'>\n",
            "Shape: torch.Size([3, 96, 96])\n",
            "\n",
            "Test dataset\n",
            "Size: 4000\n",
            "Type: <class 'torchvision.tv_tensors._image.Image'>\n",
            "Shape: torch.Size([3, 96, 96])\n",
            "\n"
          ]
        }
      ],
      "source": [
        "from sklearn.model_selection import train_test_split\n",
        "from torchvision.tv_tensors import Image\n",
        "\n",
        "val_imgs, test_imgs, val_labels, test_labels = train_test_split(test_dataset.data, test_dataset.labels, test_size=0.5, stratify=test_dataset.labels)\n",
        "val_dataset = [(Image(img, dtype=torch.float), label) for img, label in zip(val_imgs, val_labels)]\n",
        "test_dataset = [(Image(img, dtype=torch.float), label) for img, label in zip(test_imgs, test_labels)]\n",
        "\n",
        "print('Validation dataset')\n",
        "print(f'Size: {len(val_dataset)}')\n",
        "print(f'Type: {type(val_dataset[0][0])}')\n",
        "print(f'Shape: {val_dataset[0][0].shape}\\n')\n",
        "\n",
        "print('Test dataset')\n",
        "print(f'Size: {len(test_dataset)}')\n",
        "print(f'Type: {type(test_dataset[0][0])}')\n",
        "print(f'Shape: {test_dataset[0][0].shape}\\n')\n"
      ]
    },
    {
      "cell_type": "markdown",
      "metadata": {
        "id": "UH_CVArHrx4j"
      },
      "source": [
        "# 이미지 시각화\n",
        "- training dataset에 포함되어 있는 이미지를 출력하기!"
      ]
    },
    {
      "cell_type": "code",
      "execution_count": null,
      "metadata": {
        "id": "gZgcH8iNjGG2"
      },
      "outputs": [],
      "source": [
        "batch_size = 64\n",
        "train_dataloader = DataLoader(train_dataset, batch_size=batch_size)\n",
        "test_dataloader = DataLoader(test_dataset, batch_size=batch_size)"
      ]
    },
    {
      "cell_type": "code",
      "execution_count": null,
      "metadata": {
        "id": "me4UO-VLqWL2"
      },
      "outputs": [],
      "source": [
        "def show_images(X, y, transform=None):\n",
        "  labels =  ['airplane', 'bird', 'car', 'cat', 'deer', 'dog', 'horse', 'monkey', 'ship', 'truck']\n",
        "  batch_size = 64\n",
        "  r, c = 8, 8\n",
        "\n",
        "  plt.figure(figsize=(24, 24))\n",
        "  for i in range(batch_size):\n",
        "    img = X[i, :, :, :]\n",
        "    if transform:\n",
        "      img = transform(img)\n",
        "    img = img.permute(1, 2, 0)\n",
        "    label = labels[y[i]]\n",
        "\n",
        "    # ax = fig.add_subplot(r, c, i+1)\n",
        "    # ax.imshow(img)\n",
        "    # ax.title.set_text(label)\n",
        "    # ax.axis('off')\n",
        "\n",
        "    plt.subplot(r, c, i+1)\n",
        "    plt.title(label)\n",
        "    plt.imshow(img)\n",
        "    plt.axis('off')\n",
        "\n",
        "  plt.tight_layout()\n",
        "  plt.show()\n"
      ]
    },
    {
      "cell_type": "code",
      "execution_count": null,
      "metadata": {
        "colab": {
          "base_uri": "https://localhost:8080/",
          "height": 1000
        },
        "id": "3HjDWrnRr4I0",
        "outputId": "b4ea3627-1679-4b90-eda9-b525a1d85aa0"
      },
      "outputs": [],
      "source": [
        "X, y = next(iter(train_dataloader))\n",
        "\n",
        "show_images(X, y)"
      ]
    },
    {
      "cell_type": "markdown",
      "metadata": {
        "id": "t0Sd8PjLi9vh"
      },
      "source": [
        "# Data augmentation  \n",
        "  - 기존 방법\n",
        "  1. rescale  \n",
        "    - 224 이상이면 상관 없지만, 256 사용\n",
        "    - 256인 이유: 224보다 작은 이미지를 키우는 것이기 때문에 + 논문에서 이용한 가장 작은 값\n",
        "  2. 224x224 random crop  \n",
        "    - 논문에서는 몇 장의 crop을 만들 것인지 나온 게 없다.\n",
        "    - 고민 중\n",
        "  3. horizontal flip  \n",
        "    - v2.RandomHorizontalFlip()을 하면 두 장이 나오는게 아니다.\n",
        "    - 방법 고민 중\n",
        "  4. random RGB color shift  \n",
        "    - v2.ColorJittering? 이런 게 있긴 한데 원하는 건 아닌 듯.\n",
        "    - 생략할 수도. 고민 중  \n",
        "  - 참고한 자료  \n",
        "  https://www.kaggle.com/code/joonasyoon/rps-classification-vgg16-bn?scriptVersionId=91176352"
      ]
    },
    {
      "cell_type": "code",
      "execution_count": 7,
      "metadata": {
        "id": "CGPVwvP9slMM"
      },
      "outputs": [],
      "source": [
        "# Normalize에 이용하는 값 찾기\n",
        "import numpy as np\n",
        "\n",
        "train_meanRGB = [np.mean(x.numpy(), axis=(1,2)) for x, _ in train_dataset]\n",
        "train_stdRGB = [np.std(x.numpy(), axis=(1,2)) for x, _ in train_dataset]\n",
        "\n",
        "train_meanR = np.mean([m[0] for m in train_meanRGB])\n",
        "train_meanG = np.mean([m[1] for m in train_meanRGB])\n",
        "train_meanB = np.mean([m[2] for m in train_meanRGB])\n",
        "\n",
        "train_stdR = np.mean([s[0] for s in train_stdRGB])\n",
        "train_stdG = np.mean([s[1] for s in train_stdRGB])\n",
        "train_stdB = np.mean([s[2] for s in train_stdRGB])\n",
        "\n",
        "del train_meanRGB\n",
        "del train_stdRGB"
      ]
    },
    {
      "cell_type": "code",
      "execution_count": 8,
      "metadata": {
        "id": "_suv3td2ajAl"
      },
      "outputs": [],
      "source": [
        "# 기본적으로 적용하는 transforms와 data augmentation에 적용하는 transforms 정의하기\n",
        "# AlexNet에서 한 대로 five crop을 하려고 했으나 그럼 램이 너무 작아서 폭발함\n",
        "default_transforms = v2.Compose([\n",
        "  v2.Resize(256),\n",
        "  v2.RandomCrop(224),\n",
        "  v2.Normalize([train_meanR, train_meanG, train_meanB], [train_stdR, train_stdG, train_stdB])\n",
        "])\n",
        "\n",
        "aug_transforms = v2.Compose([\n",
        "    v2.RandomHorizontalFlip(p=1.0),\n",
        "])"
      ]
    },
    {
      "cell_type": "code",
      "execution_count": 13,
      "metadata": {
        "colab": {
          "background_save": true,
          "base_uri": "https://localhost:8080/",
          "height": 137,
          "referenced_widgets": [
            "d5e6625fa1ed4f16856db9b13c1e4ede",
            "0f07ab6d45744093ae95438ce1336956",
            "f2b6466c6e9245da8b684007b4cc2a19",
            "a75e307507c34452a071149eb6efffa0",
            "37e02a754025467191ae5d5b24c492f1",
            "ec9c81fe3e164cab9ee1ae8e2496cb0a",
            "d4ed52287e56410a9629329d3fb8cdb7",
            "b420088995734591aae37a564134e449",
            "dbd28df2957640298915abc2f1cfb610",
            "2817da36461d4fd386e42077b115e68c",
            "0dcc70c9e2c141b69a7a47ea606fa966",
            "75ff6b5925c44f2faef8cd5e3d3922a2",
            "0d4881a9de9c48989866a435852dc356",
            "1e1344ba3e4940f8a4a030665a04d939",
            "bae99c0deece4a40b925e0b30102613d",
            "aa6d96a823e14007939eba3d0ebb8fc6",
            "3eaca9ed3f37458982669bb7dcb8655f",
            "7a7138b18f444e2bb42b8d9ed6d41972",
            "911dacd78a7348198951530e6b545a32",
            "c562f43c62864b9999cfb6f00aec1e7b",
            "8c4fb2e01fb845908873a3d405ecc0fb",
            "8010e62165834354956b4f060e72b86b"
          ]
        },
        "id": "UCKuawn-7RFX",
        "outputId": "93feb6f2-27b9-4082-a8e0-a4e146ebd23e"
      },
      "outputs": [
        {
          "ename": "ImportError",
          "evalue": "IProgress not found. Please update jupyter and ipywidgets. See https://ipywidgets.readthedocs.io/en/stable/user_install.html",
          "output_type": "error",
          "traceback": [
            "\u001b[1;31m---------------------------------------------------------------------------\u001b[0m",
            "\u001b[1;31mImportError\u001b[0m                               Traceback (most recent call last)",
            "Cell \u001b[1;32mIn[13], line 7\u001b[0m\n\u001b[0;32m      4\u001b[0m aug_train_dataset \u001b[38;5;241m=\u001b[39m []\n\u001b[0;32m      5\u001b[0m aug_val_dataset \u001b[38;5;241m=\u001b[39m []\n\u001b[1;32m----> 7\u001b[0m \u001b[38;5;28;01mfor\u001b[39;00m img, label \u001b[38;5;129;01min\u001b[39;00m \u001b[43mtqdm\u001b[49m\u001b[43m(\u001b[49m\u001b[43mtrain_dataset\u001b[49m\u001b[43m,\u001b[49m\u001b[43m \u001b[49m\u001b[43mdesc\u001b[49m\u001b[38;5;241;43m=\u001b[39;49m\u001b[38;5;124;43mf\u001b[39;49m\u001b[38;5;124;43m'\u001b[39;49m\u001b[38;5;124;43mTraining dataset augmentation\u001b[39;49m\u001b[38;5;124;43m'\u001b[39;49m\u001b[43m)\u001b[49m:\n\u001b[0;32m      8\u001b[0m   img \u001b[38;5;241m=\u001b[39m default_transforms(img)\n\u001b[0;32m      9\u001b[0m   aug_img \u001b[38;5;241m=\u001b[39m aug_transforms(img)\n",
            "File \u001b[1;32mc:\\Users\\user\\anaconda3\\envs\\pytorch\\lib\\site-packages\\tqdm\\notebook.py:233\u001b[0m, in \u001b[0;36mtqdm_notebook.__init__\u001b[1;34m(self, *args, **kwargs)\u001b[0m\n\u001b[0;32m    231\u001b[0m unit_scale \u001b[38;5;241m=\u001b[39m \u001b[38;5;241m1\u001b[39m \u001b[38;5;28;01mif\u001b[39;00m \u001b[38;5;28mself\u001b[39m\u001b[38;5;241m.\u001b[39munit_scale \u001b[38;5;129;01mis\u001b[39;00m \u001b[38;5;28;01mTrue\u001b[39;00m \u001b[38;5;28;01melse\u001b[39;00m \u001b[38;5;28mself\u001b[39m\u001b[38;5;241m.\u001b[39munit_scale \u001b[38;5;129;01mor\u001b[39;00m \u001b[38;5;241m1\u001b[39m\n\u001b[0;32m    232\u001b[0m total \u001b[38;5;241m=\u001b[39m \u001b[38;5;28mself\u001b[39m\u001b[38;5;241m.\u001b[39mtotal \u001b[38;5;241m*\u001b[39m unit_scale \u001b[38;5;28;01mif\u001b[39;00m \u001b[38;5;28mself\u001b[39m\u001b[38;5;241m.\u001b[39mtotal \u001b[38;5;28;01melse\u001b[39;00m \u001b[38;5;28mself\u001b[39m\u001b[38;5;241m.\u001b[39mtotal\n\u001b[1;32m--> 233\u001b[0m \u001b[38;5;28mself\u001b[39m\u001b[38;5;241m.\u001b[39mcontainer \u001b[38;5;241m=\u001b[39m \u001b[38;5;28;43mself\u001b[39;49m\u001b[38;5;241;43m.\u001b[39;49m\u001b[43mstatus_printer\u001b[49m\u001b[43m(\u001b[49m\u001b[38;5;28;43mself\u001b[39;49m\u001b[38;5;241;43m.\u001b[39;49m\u001b[43mfp\u001b[49m\u001b[43m,\u001b[49m\u001b[43m \u001b[49m\u001b[43mtotal\u001b[49m\u001b[43m,\u001b[49m\u001b[43m \u001b[49m\u001b[38;5;28;43mself\u001b[39;49m\u001b[38;5;241;43m.\u001b[39;49m\u001b[43mdesc\u001b[49m\u001b[43m,\u001b[49m\u001b[43m \u001b[49m\u001b[38;5;28;43mself\u001b[39;49m\u001b[38;5;241;43m.\u001b[39;49m\u001b[43mncols\u001b[49m\u001b[43m)\u001b[49m\n\u001b[0;32m    234\u001b[0m \u001b[38;5;28mself\u001b[39m\u001b[38;5;241m.\u001b[39mcontainer\u001b[38;5;241m.\u001b[39mpbar \u001b[38;5;241m=\u001b[39m proxy(\u001b[38;5;28mself\u001b[39m)\n\u001b[0;32m    235\u001b[0m \u001b[38;5;28mself\u001b[39m\u001b[38;5;241m.\u001b[39mdisplayed \u001b[38;5;241m=\u001b[39m \u001b[38;5;28;01mFalse\u001b[39;00m\n",
            "File \u001b[1;32mc:\\Users\\user\\anaconda3\\envs\\pytorch\\lib\\site-packages\\tqdm\\notebook.py:108\u001b[0m, in \u001b[0;36mtqdm_notebook.status_printer\u001b[1;34m(_, total, desc, ncols)\u001b[0m\n\u001b[0;32m     99\u001b[0m \u001b[38;5;66;03m# Fallback to text bar if there's no total\u001b[39;00m\n\u001b[0;32m    100\u001b[0m \u001b[38;5;66;03m# DEPRECATED: replaced with an 'info' style bar\u001b[39;00m\n\u001b[0;32m    101\u001b[0m \u001b[38;5;66;03m# if not total:\u001b[39;00m\n\u001b[1;32m   (...)\u001b[0m\n\u001b[0;32m    105\u001b[0m \n\u001b[0;32m    106\u001b[0m \u001b[38;5;66;03m# Prepare IPython progress bar\u001b[39;00m\n\u001b[0;32m    107\u001b[0m \u001b[38;5;28;01mif\u001b[39;00m IProgress \u001b[38;5;129;01mis\u001b[39;00m \u001b[38;5;28;01mNone\u001b[39;00m:  \u001b[38;5;66;03m# #187 #451 #558 #872\u001b[39;00m\n\u001b[1;32m--> 108\u001b[0m     \u001b[38;5;28;01mraise\u001b[39;00m \u001b[38;5;167;01mImportError\u001b[39;00m(WARN_NOIPYW)\n\u001b[0;32m    109\u001b[0m \u001b[38;5;28;01mif\u001b[39;00m total:\n\u001b[0;32m    110\u001b[0m     pbar \u001b[38;5;241m=\u001b[39m IProgress(\u001b[38;5;28mmin\u001b[39m\u001b[38;5;241m=\u001b[39m\u001b[38;5;241m0\u001b[39m, \u001b[38;5;28mmax\u001b[39m\u001b[38;5;241m=\u001b[39mtotal)\n",
            "\u001b[1;31mImportError\u001b[0m: IProgress not found. Please update jupyter and ipywidgets. See https://ipywidgets.readthedocs.io/en/stable/user_install.html"
          ]
        }
      ],
      "source": [
        "# Data augmentation 수행하고 dataloader 만들기\n",
        "from tqdm.notebook import tqdm\n",
        "\n",
        "aug_train_dataset = []\n",
        "aug_val_dataset = []\n",
        "\n",
        "for img, label in tqdm(train_dataset, desc=f'Training dataset augmentation'):\n",
        "  img = default_transforms(img)\n",
        "  aug_img = aug_transforms(img)\n",
        "  aug_train_dataset.append((img, label))\n",
        "  aug_train_dataset.append((aug_img, label))\n",
        "\n",
        "for img, label in tqdm(val_dataset, desc='Validation dataset augmentation'):\n",
        "  img = default_transforms(img)\n",
        "  aug_img = aug_transforms(img)\n",
        "  aug_val_dataset.append((img, label))\n",
        "  aug_val_dataset.append((aug_img, label))\n",
        "\n",
        "batch_size = 256\n",
        "train_dl = DataLoader(aug_train_dataset, batch_size=batch_size)\n",
        "val_train_dl = DataLoader(aug_val_dataset, batch_size=batch_size)\n",
        "\n",
        "del train_dataset\n",
        "del val_dataset"
      ]
    },
    {
      "cell_type": "markdown",
      "metadata": {
        "id": "r9zN8q6lXEKr"
      },
      "source": [
        "# 모델 정의하기"
      ]
    },
    {
      "cell_type": "code",
      "execution_count": null,
      "metadata": {
        "id": "1t3JG4NWXHqH"
      },
      "outputs": [],
      "source": [
        "def Block2(in_dim, out_dim):\n",
        "  block = nn.Sequential(\n",
        "      nn.Conv2d(in_dim, out_dim, kernel_size=3, padding=1),\n",
        "      nn.ReLU(),\n",
        "      nn.Conv2d(out_dim, out_dim, kernel_size=3, padding=1),\n",
        "      nn.ReLU(),\n",
        "      nn.MaxPool2d(2, 2)\n",
        "  )\n",
        "  return block"
      ]
    },
    {
      "cell_type": "code",
      "execution_count": null,
      "metadata": {
        "id": "WBkwQlT-XpoY"
      },
      "outputs": [],
      "source": [
        "def Block3(in_dim, out_dim):\n",
        "  block = nn.Sequential(\n",
        "      nn.Conv2d(in_dim, out_dim, kernel_size=3, padding=1),\n",
        "      nn.ReLU(),\n",
        "      nn.Conv2d(out_dim, out_dim, kernel_size=3, padding=1),\n",
        "      nn.ReLU(),\n",
        "      nn.Conv2d(out_dim, out_dim, kernel_size=3, padding=1),\n",
        "      nn.ReLU(),\n",
        "      nn.MaxPool2d(2, 2)\n",
        "  )\n",
        "  return block"
      ]
    },
    {
      "cell_type": "code",
      "execution_count": null,
      "metadata": {
        "id": "_OZ8ucqxNyaz"
      },
      "outputs": [],
      "source": [
        "class VGGNet(nn.Module):\n",
        "  def __init__(self):\n",
        "    super().__init__()\n",
        "    self.block1 = Block2(3, 64)\n",
        "    self.block2 = Block2(64, 128)\n",
        "    self.block3 = Block3(128, 256)\n",
        "    self.block4 = Block3(256, 512)\n",
        "    self.block5 = Block3(512, 512)\n",
        "    self.flatten = nn.Flatten()\n",
        "    self.classifier = nn.Sequential(\n",
        "        nn.Linear(7*7*512, 4096),\n",
        "        nn.ReLU(),\n",
        "        nn.Dropout(0.5),\n",
        "        nn.Linear(4096, 4096),\n",
        "        nn.ReLU(),\n",
        "        nn.Dropout(0.5),\n",
        "        nn.Linear(4096, 10),\n",
        "    )\n",
        "\n",
        "  def forward(self, x):\n",
        "    x = self.block1(x)\n",
        "    x = self.block2(x)\n",
        "    x = self.block3(x)\n",
        "    x = self.block4(x)\n",
        "    x = self.block5(x)\n",
        "    x = self.flatten(x)\n",
        "    results = self.classifier(x)\n",
        "\n",
        "    return results"
      ]
    },
    {
      "cell_type": "code",
      "execution_count": null,
      "metadata": {
        "id": "nTX5YGT-cyRV"
      },
      "outputs": [],
      "source": [
        "import torchinfo, torchsummaryX\n",
        "\n",
        "model = VGGNet().to(device)\n",
        "\n",
        "# print(model)\n",
        "torchinfo.summary(model, (batch_size, 3, 224, 224))"
      ]
    },
    {
      "cell_type": "markdown",
      "metadata": {
        "id": "NfI43DUBLF4j"
      },
      "source": [
        "# 학습 & 검증"
      ]
    },
    {
      "cell_type": "code",
      "execution_count": null,
      "metadata": {
        "id": "wEz38BKHKHGd"
      },
      "outputs": [],
      "source": [
        "def print_loss_correct(mode, loss, correct):\n",
        "  print(f'{mode}_loss: {loss:<7f} -- {mode}_correct: {correct:<7f}')"
      ]
    },
    {
      "cell_type": "code",
      "execution_count": null,
      "metadata": {
        "id": "-e3er65gJlFF"
      },
      "outputs": [],
      "source": [
        "def train(dl, model, loss_fn, optimizer):\n",
        "  n_batch = len(dl)\n",
        "  n_print = n_batch // 10\n",
        "\n",
        "  model.train()\n",
        "  for batch_idx, (X, y) in enumerate(dl):\n",
        "    X, y = X.to(device), y.to(device)\n",
        "\n",
        "    pred = model(X)\n",
        "    loss = loss_fn(pred, y)\n",
        "    correct = (pred.argmax(dim=1) == y).dtype(torch.float).sum().item()\n",
        "\n",
        "    optimizer.zero_grad()\n",
        "    loss.backward()\n",
        "    optimizer.step()\n",
        "\n",
        "    if (batch_idx + 1) % n_print == 0:\n",
        "      print_loss_correct('train', loss.item(), correct / dl.batch_size)"
      ]
    },
    {
      "cell_type": "code",
      "execution_count": null,
      "metadata": {
        "id": "avqduN2XCK3M"
      },
      "outputs": [],
      "source": [
        "def validate(val_dl, model, loss_fn):\n",
        "  data_size = len(val_dl.dataset)\n",
        "  val_loss, val_correct = 0, 0\n",
        "\n",
        "  model.eval()\n",
        "  with model.no_grad():\n",
        "    for X, y in val_dl:\n",
        "      X, y = X.to(device), y.to(device)\n",
        "\n",
        "      pred = model(X)\n",
        "      batch_val_loss = loss_fn(pred, y)\n",
        "      batch_val_correct = (pred.argmax(dim=1) == y).dtype(float).sum().item()\n",
        "      val_loss += batch_val_loss\n",
        "      val_correct += batch_val_correct\n",
        "\n",
        "  val_loss /= data_size\n",
        "  val_correct /= data_size\n",
        "  print_loss_correct('val', val_loss, val_correct)\n",
        "\n",
        "  return val_loss, val_correct"
      ]
    },
    {
      "cell_type": "code",
      "execution_count": null,
      "metadata": {
        "id": "xtwMbODo_nko"
      },
      "outputs": [],
      "source": [
        "from torch.optim.lr_scheduler import ReduceLROnPlateau\n",
        "\n",
        "loss_fn = nn.CrossEntropyLoss()\n",
        "optimizer = optim.SGD(model.parameters(), lr=1e-2, momentum=0.9, weight_decay=5*1e-4)\n",
        "lr_scheduler = ReduceLROnPlateau(optimizer, mode='min', factor=0.1, patience=3)"
      ]
    },
    {
      "cell_type": "code",
      "execution_count": null,
      "metadata": {
        "id": "iBzSD3CLBnSS"
      },
      "outputs": [],
      "source": [
        "epochs = 20\n",
        "\n",
        "for e in range(epochs):\n",
        "  print(f'Epoch {e + 1}\\n--------------------------------------')\n",
        "  train(train_dl, model, loss_fn, optimizer)\n",
        "  val_loss, val_correct = validate(val_dl, model, loss_fn)\n",
        "  lr_scheduler.step(val_loss)"
      ]
    },
    {
      "cell_type": "code",
      "execution_count": null,
      "metadata": {
        "id": "Rwase2RCKDVP"
      },
      "outputs": [],
      "source": [
        "X, y = next(iter(train_dl))\n",
        "img = X[0]\n",
        "\n",
        "type(img)"
      ]
    }
  ],
  "metadata": {
    "accelerator": "GPU",
    "colab": {
      "provenance": []
    },
    "kernelspec": {
      "display_name": "Python 3",
      "name": "python3"
    },
    "language_info": {
      "codemirror_mode": {
        "name": "ipython",
        "version": 3
      },
      "file_extension": ".py",
      "mimetype": "text/x-python",
      "name": "python",
      "nbconvert_exporter": "python",
      "pygments_lexer": "ipython3",
      "version": "3.10.13"
    },
    "widgets": {
      "application/vnd.jupyter.widget-state+json": {
        "0d4881a9de9c48989866a435852dc356": {
          "model_module": "@jupyter-widgets/controls",
          "model_module_version": "1.5.0",
          "model_name": "HTMLModel",
          "state": {
            "_dom_classes": [],
            "_model_module": "@jupyter-widgets/controls",
            "_model_module_version": "1.5.0",
            "_model_name": "HTMLModel",
            "_view_count": null,
            "_view_module": "@jupyter-widgets/controls",
            "_view_module_version": "1.5.0",
            "_view_name": "HTMLView",
            "description": "",
            "description_tooltip": null,
            "layout": "IPY_MODEL_3eaca9ed3f37458982669bb7dcb8655f",
            "placeholder": "​",
            "style": "IPY_MODEL_7a7138b18f444e2bb42b8d9ed6d41972",
            "value": "Validation dataset augmentation:  32%"
          }
        },
        "0dcc70c9e2c141b69a7a47ea606fa966": {
          "model_module": "@jupyter-widgets/controls",
          "model_module_version": "1.5.0",
          "model_name": "DescriptionStyleModel",
          "state": {
            "_model_module": "@jupyter-widgets/controls",
            "_model_module_version": "1.5.0",
            "_model_name": "DescriptionStyleModel",
            "_view_count": null,
            "_view_module": "@jupyter-widgets/base",
            "_view_module_version": "1.2.0",
            "_view_name": "StyleView",
            "description_width": ""
          }
        },
        "0f07ab6d45744093ae95438ce1336956": {
          "model_module": "@jupyter-widgets/controls",
          "model_module_version": "1.5.0",
          "model_name": "HTMLModel",
          "state": {
            "_dom_classes": [],
            "_model_module": "@jupyter-widgets/controls",
            "_model_module_version": "1.5.0",
            "_model_name": "HTMLModel",
            "_view_count": null,
            "_view_module": "@jupyter-widgets/controls",
            "_view_module_version": "1.5.0",
            "_view_name": "HTMLView",
            "description": "",
            "description_tooltip": null,
            "layout": "IPY_MODEL_ec9c81fe3e164cab9ee1ae8e2496cb0a",
            "placeholder": "​",
            "style": "IPY_MODEL_d4ed52287e56410a9629329d3fb8cdb7",
            "value": "Training dataset augmentation: 100%"
          }
        },
        "1e1344ba3e4940f8a4a030665a04d939": {
          "model_module": "@jupyter-widgets/controls",
          "model_module_version": "1.5.0",
          "model_name": "FloatProgressModel",
          "state": {
            "_dom_classes": [],
            "_model_module": "@jupyter-widgets/controls",
            "_model_module_version": "1.5.0",
            "_model_name": "FloatProgressModel",
            "_view_count": null,
            "_view_module": "@jupyter-widgets/controls",
            "_view_module_version": "1.5.0",
            "_view_name": "ProgressView",
            "bar_style": "",
            "description": "",
            "description_tooltip": null,
            "layout": "IPY_MODEL_911dacd78a7348198951530e6b545a32",
            "max": 4000,
            "min": 0,
            "orientation": "horizontal",
            "style": "IPY_MODEL_c562f43c62864b9999cfb6f00aec1e7b",
            "value": 1276
          }
        },
        "2817da36461d4fd386e42077b115e68c": {
          "model_module": "@jupyter-widgets/base",
          "model_module_version": "1.2.0",
          "model_name": "LayoutModel",
          "state": {
            "_model_module": "@jupyter-widgets/base",
            "_model_module_version": "1.2.0",
            "_model_name": "LayoutModel",
            "_view_count": null,
            "_view_module": "@jupyter-widgets/base",
            "_view_module_version": "1.2.0",
            "_view_name": "LayoutView",
            "align_content": null,
            "align_items": null,
            "align_self": null,
            "border": null,
            "bottom": null,
            "display": null,
            "flex": null,
            "flex_flow": null,
            "grid_area": null,
            "grid_auto_columns": null,
            "grid_auto_flow": null,
            "grid_auto_rows": null,
            "grid_column": null,
            "grid_gap": null,
            "grid_row": null,
            "grid_template_areas": null,
            "grid_template_columns": null,
            "grid_template_rows": null,
            "height": null,
            "justify_content": null,
            "justify_items": null,
            "left": null,
            "margin": null,
            "max_height": null,
            "max_width": null,
            "min_height": null,
            "min_width": null,
            "object_fit": null,
            "object_position": null,
            "order": null,
            "overflow": null,
            "overflow_x": null,
            "overflow_y": null,
            "padding": null,
            "right": null,
            "top": null,
            "visibility": null,
            "width": null
          }
        },
        "37e02a754025467191ae5d5b24c492f1": {
          "model_module": "@jupyter-widgets/base",
          "model_module_version": "1.2.0",
          "model_name": "LayoutModel",
          "state": {
            "_model_module": "@jupyter-widgets/base",
            "_model_module_version": "1.2.0",
            "_model_name": "LayoutModel",
            "_view_count": null,
            "_view_module": "@jupyter-widgets/base",
            "_view_module_version": "1.2.0",
            "_view_name": "LayoutView",
            "align_content": null,
            "align_items": null,
            "align_self": null,
            "border": null,
            "bottom": null,
            "display": null,
            "flex": null,
            "flex_flow": null,
            "grid_area": null,
            "grid_auto_columns": null,
            "grid_auto_flow": null,
            "grid_auto_rows": null,
            "grid_column": null,
            "grid_gap": null,
            "grid_row": null,
            "grid_template_areas": null,
            "grid_template_columns": null,
            "grid_template_rows": null,
            "height": null,
            "justify_content": null,
            "justify_items": null,
            "left": null,
            "margin": null,
            "max_height": null,
            "max_width": null,
            "min_height": null,
            "min_width": null,
            "object_fit": null,
            "object_position": null,
            "order": null,
            "overflow": null,
            "overflow_x": null,
            "overflow_y": null,
            "padding": null,
            "right": null,
            "top": null,
            "visibility": null,
            "width": null
          }
        },
        "3eaca9ed3f37458982669bb7dcb8655f": {
          "model_module": "@jupyter-widgets/base",
          "model_module_version": "1.2.0",
          "model_name": "LayoutModel",
          "state": {
            "_model_module": "@jupyter-widgets/base",
            "_model_module_version": "1.2.0",
            "_model_name": "LayoutModel",
            "_view_count": null,
            "_view_module": "@jupyter-widgets/base",
            "_view_module_version": "1.2.0",
            "_view_name": "LayoutView",
            "align_content": null,
            "align_items": null,
            "align_self": null,
            "border": null,
            "bottom": null,
            "display": null,
            "flex": null,
            "flex_flow": null,
            "grid_area": null,
            "grid_auto_columns": null,
            "grid_auto_flow": null,
            "grid_auto_rows": null,
            "grid_column": null,
            "grid_gap": null,
            "grid_row": null,
            "grid_template_areas": null,
            "grid_template_columns": null,
            "grid_template_rows": null,
            "height": null,
            "justify_content": null,
            "justify_items": null,
            "left": null,
            "margin": null,
            "max_height": null,
            "max_width": null,
            "min_height": null,
            "min_width": null,
            "object_fit": null,
            "object_position": null,
            "order": null,
            "overflow": null,
            "overflow_x": null,
            "overflow_y": null,
            "padding": null,
            "right": null,
            "top": null,
            "visibility": null,
            "width": null
          }
        },
        "75ff6b5925c44f2faef8cd5e3d3922a2": {
          "model_module": "@jupyter-widgets/controls",
          "model_module_version": "1.5.0",
          "model_name": "HBoxModel",
          "state": {
            "_dom_classes": [],
            "_model_module": "@jupyter-widgets/controls",
            "_model_module_version": "1.5.0",
            "_model_name": "HBoxModel",
            "_view_count": null,
            "_view_module": "@jupyter-widgets/controls",
            "_view_module_version": "1.5.0",
            "_view_name": "HBoxView",
            "box_style": "",
            "children": [
              "IPY_MODEL_0d4881a9de9c48989866a435852dc356",
              "IPY_MODEL_1e1344ba3e4940f8a4a030665a04d939",
              "IPY_MODEL_bae99c0deece4a40b925e0b30102613d"
            ],
            "layout": "IPY_MODEL_aa6d96a823e14007939eba3d0ebb8fc6"
          }
        },
        "7a7138b18f444e2bb42b8d9ed6d41972": {
          "model_module": "@jupyter-widgets/controls",
          "model_module_version": "1.5.0",
          "model_name": "DescriptionStyleModel",
          "state": {
            "_model_module": "@jupyter-widgets/controls",
            "_model_module_version": "1.5.0",
            "_model_name": "DescriptionStyleModel",
            "_view_count": null,
            "_view_module": "@jupyter-widgets/base",
            "_view_module_version": "1.2.0",
            "_view_name": "StyleView",
            "description_width": ""
          }
        },
        "8010e62165834354956b4f060e72b86b": {
          "model_module": "@jupyter-widgets/controls",
          "model_module_version": "1.5.0",
          "model_name": "DescriptionStyleModel",
          "state": {
            "_model_module": "@jupyter-widgets/controls",
            "_model_module_version": "1.5.0",
            "_model_name": "DescriptionStyleModel",
            "_view_count": null,
            "_view_module": "@jupyter-widgets/base",
            "_view_module_version": "1.2.0",
            "_view_name": "StyleView",
            "description_width": ""
          }
        },
        "8c4fb2e01fb845908873a3d405ecc0fb": {
          "model_module": "@jupyter-widgets/base",
          "model_module_version": "1.2.0",
          "model_name": "LayoutModel",
          "state": {
            "_model_module": "@jupyter-widgets/base",
            "_model_module_version": "1.2.0",
            "_model_name": "LayoutModel",
            "_view_count": null,
            "_view_module": "@jupyter-widgets/base",
            "_view_module_version": "1.2.0",
            "_view_name": "LayoutView",
            "align_content": null,
            "align_items": null,
            "align_self": null,
            "border": null,
            "bottom": null,
            "display": null,
            "flex": null,
            "flex_flow": null,
            "grid_area": null,
            "grid_auto_columns": null,
            "grid_auto_flow": null,
            "grid_auto_rows": null,
            "grid_column": null,
            "grid_gap": null,
            "grid_row": null,
            "grid_template_areas": null,
            "grid_template_columns": null,
            "grid_template_rows": null,
            "height": null,
            "justify_content": null,
            "justify_items": null,
            "left": null,
            "margin": null,
            "max_height": null,
            "max_width": null,
            "min_height": null,
            "min_width": null,
            "object_fit": null,
            "object_position": null,
            "order": null,
            "overflow": null,
            "overflow_x": null,
            "overflow_y": null,
            "padding": null,
            "right": null,
            "top": null,
            "visibility": null,
            "width": null
          }
        },
        "911dacd78a7348198951530e6b545a32": {
          "model_module": "@jupyter-widgets/base",
          "model_module_version": "1.2.0",
          "model_name": "LayoutModel",
          "state": {
            "_model_module": "@jupyter-widgets/base",
            "_model_module_version": "1.2.0",
            "_model_name": "LayoutModel",
            "_view_count": null,
            "_view_module": "@jupyter-widgets/base",
            "_view_module_version": "1.2.0",
            "_view_name": "LayoutView",
            "align_content": null,
            "align_items": null,
            "align_self": null,
            "border": null,
            "bottom": null,
            "display": null,
            "flex": null,
            "flex_flow": null,
            "grid_area": null,
            "grid_auto_columns": null,
            "grid_auto_flow": null,
            "grid_auto_rows": null,
            "grid_column": null,
            "grid_gap": null,
            "grid_row": null,
            "grid_template_areas": null,
            "grid_template_columns": null,
            "grid_template_rows": null,
            "height": null,
            "justify_content": null,
            "justify_items": null,
            "left": null,
            "margin": null,
            "max_height": null,
            "max_width": null,
            "min_height": null,
            "min_width": null,
            "object_fit": null,
            "object_position": null,
            "order": null,
            "overflow": null,
            "overflow_x": null,
            "overflow_y": null,
            "padding": null,
            "right": null,
            "top": null,
            "visibility": null,
            "width": null
          }
        },
        "a75e307507c34452a071149eb6efffa0": {
          "model_module": "@jupyter-widgets/controls",
          "model_module_version": "1.5.0",
          "model_name": "HTMLModel",
          "state": {
            "_dom_classes": [],
            "_model_module": "@jupyter-widgets/controls",
            "_model_module_version": "1.5.0",
            "_model_name": "HTMLModel",
            "_view_count": null,
            "_view_module": "@jupyter-widgets/controls",
            "_view_module_version": "1.5.0",
            "_view_name": "HTMLView",
            "description": "",
            "description_tooltip": null,
            "layout": "IPY_MODEL_2817da36461d4fd386e42077b115e68c",
            "placeholder": "​",
            "style": "IPY_MODEL_0dcc70c9e2c141b69a7a47ea606fa966",
            "value": " 5000/5000 [00:26&lt;00:00, 150.79it/s]"
          }
        },
        "aa6d96a823e14007939eba3d0ebb8fc6": {
          "model_module": "@jupyter-widgets/base",
          "model_module_version": "1.2.0",
          "model_name": "LayoutModel",
          "state": {
            "_model_module": "@jupyter-widgets/base",
            "_model_module_version": "1.2.0",
            "_model_name": "LayoutModel",
            "_view_count": null,
            "_view_module": "@jupyter-widgets/base",
            "_view_module_version": "1.2.0",
            "_view_name": "LayoutView",
            "align_content": null,
            "align_items": null,
            "align_self": null,
            "border": null,
            "bottom": null,
            "display": null,
            "flex": null,
            "flex_flow": null,
            "grid_area": null,
            "grid_auto_columns": null,
            "grid_auto_flow": null,
            "grid_auto_rows": null,
            "grid_column": null,
            "grid_gap": null,
            "grid_row": null,
            "grid_template_areas": null,
            "grid_template_columns": null,
            "grid_template_rows": null,
            "height": null,
            "justify_content": null,
            "justify_items": null,
            "left": null,
            "margin": null,
            "max_height": null,
            "max_width": null,
            "min_height": null,
            "min_width": null,
            "object_fit": null,
            "object_position": null,
            "order": null,
            "overflow": null,
            "overflow_x": null,
            "overflow_y": null,
            "padding": null,
            "right": null,
            "top": null,
            "visibility": null,
            "width": null
          }
        },
        "b420088995734591aae37a564134e449": {
          "model_module": "@jupyter-widgets/base",
          "model_module_version": "1.2.0",
          "model_name": "LayoutModel",
          "state": {
            "_model_module": "@jupyter-widgets/base",
            "_model_module_version": "1.2.0",
            "_model_name": "LayoutModel",
            "_view_count": null,
            "_view_module": "@jupyter-widgets/base",
            "_view_module_version": "1.2.0",
            "_view_name": "LayoutView",
            "align_content": null,
            "align_items": null,
            "align_self": null,
            "border": null,
            "bottom": null,
            "display": null,
            "flex": null,
            "flex_flow": null,
            "grid_area": null,
            "grid_auto_columns": null,
            "grid_auto_flow": null,
            "grid_auto_rows": null,
            "grid_column": null,
            "grid_gap": null,
            "grid_row": null,
            "grid_template_areas": null,
            "grid_template_columns": null,
            "grid_template_rows": null,
            "height": null,
            "justify_content": null,
            "justify_items": null,
            "left": null,
            "margin": null,
            "max_height": null,
            "max_width": null,
            "min_height": null,
            "min_width": null,
            "object_fit": null,
            "object_position": null,
            "order": null,
            "overflow": null,
            "overflow_x": null,
            "overflow_y": null,
            "padding": null,
            "right": null,
            "top": null,
            "visibility": null,
            "width": null
          }
        },
        "bae99c0deece4a40b925e0b30102613d": {
          "model_module": "@jupyter-widgets/controls",
          "model_module_version": "1.5.0",
          "model_name": "HTMLModel",
          "state": {
            "_dom_classes": [],
            "_model_module": "@jupyter-widgets/controls",
            "_model_module_version": "1.5.0",
            "_model_name": "HTMLModel",
            "_view_count": null,
            "_view_module": "@jupyter-widgets/controls",
            "_view_module_version": "1.5.0",
            "_view_name": "HTMLView",
            "description": "",
            "description_tooltip": null,
            "layout": "IPY_MODEL_8c4fb2e01fb845908873a3d405ecc0fb",
            "placeholder": "​",
            "style": "IPY_MODEL_8010e62165834354956b4f060e72b86b",
            "value": " 1276/4000 [00:19&lt;07:54,  5.74it/s]"
          }
        },
        "c562f43c62864b9999cfb6f00aec1e7b": {
          "model_module": "@jupyter-widgets/controls",
          "model_module_version": "1.5.0",
          "model_name": "ProgressStyleModel",
          "state": {
            "_model_module": "@jupyter-widgets/controls",
            "_model_module_version": "1.5.0",
            "_model_name": "ProgressStyleModel",
            "_view_count": null,
            "_view_module": "@jupyter-widgets/base",
            "_view_module_version": "1.2.0",
            "_view_name": "StyleView",
            "bar_color": null,
            "description_width": ""
          }
        },
        "d4ed52287e56410a9629329d3fb8cdb7": {
          "model_module": "@jupyter-widgets/controls",
          "model_module_version": "1.5.0",
          "model_name": "DescriptionStyleModel",
          "state": {
            "_model_module": "@jupyter-widgets/controls",
            "_model_module_version": "1.5.0",
            "_model_name": "DescriptionStyleModel",
            "_view_count": null,
            "_view_module": "@jupyter-widgets/base",
            "_view_module_version": "1.2.0",
            "_view_name": "StyleView",
            "description_width": ""
          }
        },
        "d5e6625fa1ed4f16856db9b13c1e4ede": {
          "model_module": "@jupyter-widgets/controls",
          "model_module_version": "1.5.0",
          "model_name": "HBoxModel",
          "state": {
            "_dom_classes": [],
            "_model_module": "@jupyter-widgets/controls",
            "_model_module_version": "1.5.0",
            "_model_name": "HBoxModel",
            "_view_count": null,
            "_view_module": "@jupyter-widgets/controls",
            "_view_module_version": "1.5.0",
            "_view_name": "HBoxView",
            "box_style": "",
            "children": [
              "IPY_MODEL_0f07ab6d45744093ae95438ce1336956",
              "IPY_MODEL_f2b6466c6e9245da8b684007b4cc2a19",
              "IPY_MODEL_a75e307507c34452a071149eb6efffa0"
            ],
            "layout": "IPY_MODEL_37e02a754025467191ae5d5b24c492f1"
          }
        },
        "dbd28df2957640298915abc2f1cfb610": {
          "model_module": "@jupyter-widgets/controls",
          "model_module_version": "1.5.0",
          "model_name": "ProgressStyleModel",
          "state": {
            "_model_module": "@jupyter-widgets/controls",
            "_model_module_version": "1.5.0",
            "_model_name": "ProgressStyleModel",
            "_view_count": null,
            "_view_module": "@jupyter-widgets/base",
            "_view_module_version": "1.2.0",
            "_view_name": "StyleView",
            "bar_color": null,
            "description_width": ""
          }
        },
        "ec9c81fe3e164cab9ee1ae8e2496cb0a": {
          "model_module": "@jupyter-widgets/base",
          "model_module_version": "1.2.0",
          "model_name": "LayoutModel",
          "state": {
            "_model_module": "@jupyter-widgets/base",
            "_model_module_version": "1.2.0",
            "_model_name": "LayoutModel",
            "_view_count": null,
            "_view_module": "@jupyter-widgets/base",
            "_view_module_version": "1.2.0",
            "_view_name": "LayoutView",
            "align_content": null,
            "align_items": null,
            "align_self": null,
            "border": null,
            "bottom": null,
            "display": null,
            "flex": null,
            "flex_flow": null,
            "grid_area": null,
            "grid_auto_columns": null,
            "grid_auto_flow": null,
            "grid_auto_rows": null,
            "grid_column": null,
            "grid_gap": null,
            "grid_row": null,
            "grid_template_areas": null,
            "grid_template_columns": null,
            "grid_template_rows": null,
            "height": null,
            "justify_content": null,
            "justify_items": null,
            "left": null,
            "margin": null,
            "max_height": null,
            "max_width": null,
            "min_height": null,
            "min_width": null,
            "object_fit": null,
            "object_position": null,
            "order": null,
            "overflow": null,
            "overflow_x": null,
            "overflow_y": null,
            "padding": null,
            "right": null,
            "top": null,
            "visibility": null,
            "width": null
          }
        },
        "f2b6466c6e9245da8b684007b4cc2a19": {
          "model_module": "@jupyter-widgets/controls",
          "model_module_version": "1.5.0",
          "model_name": "FloatProgressModel",
          "state": {
            "_dom_classes": [],
            "_model_module": "@jupyter-widgets/controls",
            "_model_module_version": "1.5.0",
            "_model_name": "FloatProgressModel",
            "_view_count": null,
            "_view_module": "@jupyter-widgets/controls",
            "_view_module_version": "1.5.0",
            "_view_name": "ProgressView",
            "bar_style": "success",
            "description": "",
            "description_tooltip": null,
            "layout": "IPY_MODEL_b420088995734591aae37a564134e449",
            "max": 5000,
            "min": 0,
            "orientation": "horizontal",
            "style": "IPY_MODEL_dbd28df2957640298915abc2f1cfb610",
            "value": 5000
          }
        }
      }
    }
  },
  "nbformat": 4,
  "nbformat_minor": 0
}
